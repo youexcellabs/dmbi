{
 "cells": [
  {
   "cell_type": "code",
   "execution_count": null,
   "id": "38b48193",
   "metadata": {
    "vscode": {
     "languageId": "plaintext"
    }
   },
   "outputs": [],
   "source": [
    "# Cell 1: Import Libraries\n",
    "import pandas as pd\n",
    "from src.data_preprocessing import preprocess_recipes\n",
    "from src.recommendation_model import ContentBasedRecommender\n",
    "import os\n",
    "\n",
    "# Cell 2: Load Data\n",
    "# Adjust path if your notebook is not directly in 'notebooks' folder relative to 'data'\n",
    "df = pd.read_csv('../data/recipes.csv')\n",
    "print(\"Original DataFrame head:\")\n",
    "print(df.head())\n",
    "\n",
    "# Cell 3: Preprocess Data\n",
    "processed_df = preprocess_recipes(df.copy())\n",
    "print(\"\\nProcessed DataFrame head (with cleaned_ingredients):\")\n",
    "print(processed_df.head())\n",
    "\n",
    "# Cell 4: Initialize and Fit Recommender Model\n",
    "recommender = ContentBasedRecommender()\n",
    "recommender.fit(processed_df)\n",
    "\n",
    "# Cell 5: Save the Trained Model\n",
    "# Ensure the 'models' directory exists\n",
    "os.makedirs('../models', exist_ok=True)\n",
    "recommender.save_model(path='../models/content_based_model.pkl')\n",
    "\n",
    "# Cell 6: Load the Model (Demonstration)\n",
    "loaded_recommender = ContentBasedRecommender()\n",
    "if loaded_recommender.load_model(path='../models/content_based_model.pkl'):\n",
    "    print(\"\\nModel loaded successfully for testing.\")\n",
    "\n",
    "# Cell 7: Get and Display Recommendations (Example 1)\n",
    "# Let's recommend for Spaghetti Carbonara (recipe_id=1)\n",
    "print(\"\\nRecommendations for 'Spaghetti Carbonara' (recipe_id=1):\")\n",
    "recommendations_carbonara = loaded_recommender.recommend(recipe_id=1, num_recommendations=3)\n",
    "print(recommendations_carbonara)\n",
    "\n",
    "# Cell 8: Get and Display Recommendations (Example 2)\n",
    "# Let's recommend for Chicken Tikka Masala (recipe_id=2)\n",
    "print(\"\\nRecommendations for 'Chicken Tikka Masala' (recipe_id=2):\")\n",
    "recommendations_tikka = loaded_recommender.recommend(recipe_id=2, num_recommendations=3)\n",
    "print(recommendations_tikka)\n",
    "\n",
    "# Cell 9: Get and Display Recommendations (Example 3)\n",
    "# Let's recommend for Vegetable Stir-Fry (recipe_id=4)\n",
    "print(\"\\nRecommendations for 'Vegetable Stir-Fry' (recipe_id=4):\")\n",
    "recommendations_stirfry = loaded_recommender.recommend(recipe_id=4, num_recommendations=3)\n",
    "print(recommendations_stirfry)\n",
    "\n",
    "# Cell 10: Further EDA and Visualization (Optional)\n",
    "# This is where you would do more data analysis, e.g.,\n",
    "# import matplotlib.pyplot as plt\n",
    "# import seaborn as sns\n",
    "# plt.figure(figsize=(10, 6))\n",
    "# sns.countplot(data=df, y='cuisine', order=df['cuisine'].value_counts().index)\n",
    "# plt.title('Distribution of Cuisines')\n",
    "# plt.show()\n",
    "\n",
    "# You could also explore the TF-IDF features:\n",
    "# print(\"\\nTop 10 features (ingredients) by TF-IDF score:\")\n",
    "# feature_names = recommender.tfidf_vectorizer.get_feature_names_out()\n",
    "# # For demonstration, let's just show some feature names\n",
    "# print(feature_names[:10])"
   ]
  }
 ],
 "metadata": {
  "language_info": {
   "name": "python"
  }
 },
 "nbformat": 4,
 "nbformat_minor": 5
}
